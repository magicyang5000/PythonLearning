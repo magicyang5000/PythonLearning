{
 "cells": [
  {
   "cell_type": "markdown",
   "metadata": {},
   "source": [
    "# 一、字典-dictionary"
   ]
  },
  {
   "cell_type": "markdown",
   "metadata": {},
   "source": [
    "## 定义\n",
    "* 字典是由一系列的键(key)-值(value)对组成\n",
    "* 字典的每个键值(key=>value)对用冒号(:)分割，每个对之间用逗号(,)分割，整个字典包括在花括号({})中 ,格式如下所示：  \n",
    "```dic = {key1 : value1, key2 : value2 }```\n",
    "* 键必须是唯一的，但值则不必。\n",
    "* 值可以取任何数据类型，但键必须是不可变的，如字符串，数字或元组。"
   ]
  },
  {
   "cell_type": "markdown",
   "metadata": {},
   "source": [
    "## 特性\n",
    "字典值可以是任何的 python 对象，既可以是标准的对象，也可以是用户定义的，但键不行。  \n",
    "两个重要的点需要记住: \n",
    "1. 不允许同一个键出现两次。创建时如果同一个键被赋值两次，后一个值会被记住\n",
    "2. 键必须不可变，所以可以用数字，字符串或元组充当，而用列表就不行"
   ]
  },
  {
   "cell_type": "code",
   "execution_count": 1,
   "metadata": {},
   "outputs": [
    {
     "name": "stdout",
     "output_type": "stream",
     "text": [
      "dict['name']: fannie\n"
     ]
    },
    {
     "ename": "TypeError",
     "evalue": "unhashable type: 'list'",
     "output_type": "error",
     "traceback": [
      "\u001b[1;31m---------------------------------------------------------------------------\u001b[0m",
      "\u001b[1;31mTypeError\u001b[0m                                 Traceback (most recent call last)",
      "\u001b[1;32m<ipython-input-1-b9e271314aec>\u001b[0m in \u001b[0;36m<module>\u001b[1;34m()\u001b[0m\n\u001b[0;32m      4\u001b[0m \u001b[1;33m\u001b[0m\u001b[0m\n\u001b[0;32m      5\u001b[0m \u001b[1;31m# 将key定义为list无效\u001b[0m\u001b[1;33m\u001b[0m\u001b[1;33m\u001b[0m\u001b[0m\n\u001b[1;32m----> 6\u001b[1;33m \u001b[0mdict\u001b[0m \u001b[1;33m=\u001b[0m \u001b[1;33m{\u001b[0m\u001b[1;33m[\u001b[0m\u001b[1;34m'name'\u001b[0m\u001b[1;33m]\u001b[0m\u001b[1;33m:\u001b[0m\u001b[1;34m'magic'\u001b[0m\u001b[1;33m,\u001b[0m\u001b[1;34m'sex'\u001b[0m\u001b[1;33m:\u001b[0m\u001b[1;34m'male'\u001b[0m\u001b[1;33m,\u001b[0m\u001b[1;34m'name'\u001b[0m\u001b[1;33m:\u001b[0m\u001b[1;34m'fannie'\u001b[0m\u001b[1;33m}\u001b[0m\u001b[1;33m\u001b[0m\u001b[0m\n\u001b[0m",
      "\u001b[1;31mTypeError\u001b[0m: unhashable type: 'list'"
     ]
    }
   ],
   "source": [
    "# name只有后一个被记住\n",
    "dict = {'name':'magic','sex':'male','name':'fannie'}\n",
    "print(\"dict['name']:\",dict['name'])\n",
    "\n",
    "# 将key定义为list无效\n",
    "dict = {['name']:'magic','sex':'male','name':'fannie'}\n"
   ]
  },
  {
   "cell_type": "markdown",
   "metadata": {},
   "source": [
    "## 创建\n",
    "直接输入键值对即可"
   ]
  },
  {
   "cell_type": "code",
   "execution_count": 2,
   "metadata": {},
   "outputs": [
    {
     "data": {
      "text/plain": [
       "{'name': 'magic', 'sex': 'male'}"
      ]
     },
     "execution_count": 2,
     "metadata": {},
     "output_type": "execute_result"
    }
   ],
   "source": [
    "dict = {'name':'magic','sex':'male'}\n",
    "dict"
   ]
  },
  {
   "cell_type": "markdown",
   "metadata": {},
   "source": [
    "## 相关方法\n",
    "* **访问字典元素**  \n",
    "用方括号[]来输入key，以访问该key对应的value  \n",
    "  \n",
    "* **修改字典元素**  \n",
    "在访问方法的基础上，直接给它赋值就可以修改对应的value  \n",
    "  \n",
    "* **删除字典元素**  \n",
    "删除整个字典: del dict        \n",
    "删除字典值：  del dict['key']  \n",
    "清空字典：    dict.clear()  \n",
    "删除字典后字典就不存在了；清空的字典依然存在，只不过字典里的内容是空的  \n",
    "  \n",
    "* **字典内置函数**\n",
    "  \n",
    "|函数|说明|\n",
    "|:--- |---:|\n",
    "|len(dict)|计算字典元素个数，即键的总数。\t|\n",
    "|str(dict)|输出字典，以可打印的字符串表示。|\t\n",
    "|type(variable)|返回输入的变量类型，如果变量是字典就返回字典类型。\t|\n",
    "  \n",
    "* **字典方法**  \n",
    "  \n",
    "|方法|说明|\n",
    "|:--- |---:|\n",
    "|radiansdict.clear()|删除字典内所有元素|\n",
    "|radiansdict.copy()|返回一个字典的浅复制|\n",
    "|radiansdict.fromkeys()|创建一个新字典，以序列seq中元素做字典的键，val为字典所有键对应的初始值|\n",
    "|adiansdict.get(key, default=None)|返回指定键的值，如果值不在字典中返回default值|\n",
    "|key in dict|如果键在字典dict里返回true，否则返回false|\n",
    "|radiansdict.items()|以列表返回可遍历的(键, 值) 元组数组|\n",
    "|radiansdict.keys()|返回一个迭代器，可以使用 list() 来转换为列表|\n",
    "|radiansdict.setdefault(key, default=None)|和get()类似, 但如果键不存在于字典中，将会添加键并将值设为default|\n",
    "|radiansdict.update(dict2)|把字典dict2的键/值对更新到dict里|\n",
    "|radiansdict.values()|返回一个迭代器，可以使用 list() 来转换为列表|\n",
    "|pop(key[,default])|删除字典给定键 key 所对应的值，返回值为被删除的值。key值必须给出。 否则，返回default值。|\n",
    "|popitem()|随机返回并删除字典中的一对键和值(一般删除末尾对)|"
   ]
  },
  {
   "cell_type": "code",
   "execution_count": 3,
   "metadata": {},
   "outputs": [
    {
     "name": "stdout",
     "output_type": "stream",
     "text": [
      "magic\n",
      "tony\n",
      "{'sex': 'male'}\n",
      "{}\n",
      "<class 'dict'>\n"
     ]
    }
   ],
   "source": [
    "# 访问value\n",
    "print(dict['name'])\n",
    "\n",
    "# 修改value\n",
    "dict['name'] = 'tony'\n",
    "print(dict['name'])\n",
    "\n",
    "# 删除\n",
    "del dict['name']\n",
    "print(dict)\n",
    "dict.clear()\n",
    "print(dict)\n",
    "del dict\n",
    "print(dict)"
   ]
  },
  {
   "cell_type": "code",
   "execution_count": 4,
   "metadata": {},
   "outputs": [
    {
     "name": "stdout",
     "output_type": "stream",
     "text": [
      "2\n",
      "{'name': 'magic', 'sex': 'male'}\n",
      "<class 'dict'>\n"
     ]
    }
   ],
   "source": [
    "# 函数\n",
    "dict = {'name':'magic','sex':'male'}\n",
    "print(len(dict))\n",
    "print(str(dict))\n",
    "print(type(dict))"
   ]
  },
  {
   "cell_type": "code",
   "execution_count": 5,
   "metadata": {},
   "outputs": [
    {
     "name": "stdout",
     "output_type": "stream",
     "text": [
      "{'name': 'magic', 'sex': 'male'}\n",
      "{'name': None, 'age': None, 'sex': None}\n",
      "{'name': 10, 'age': 10, 'sex': 10}\n",
      "male\n",
      "True\n",
      "dict_items([('name', 'magic'), ('sex', 'male')])\n",
      "dict_keys(['name', 'sex'])\n",
      "dict_values(['magic', 'male'])\n",
      "{'name': 'magic', 'sex': 'male', 'height': '10'}\n",
      "magic\n",
      "('height', '10')\n"
     ]
    }
   ],
   "source": [
    "# 方法\n",
    "dict2 = dict.copy()\n",
    "print(dict2)\n",
    "\n",
    "seq = ('name','age','sex')\n",
    "dict2 = dict.fromkeys(seq)\n",
    "print(dict2)\n",
    "dict2 = dict.fromkeys(seq,10)\n",
    "print(dict2)\n",
    "\n",
    "print(dict.get('sex'))\n",
    "\n",
    "print('name' in dict)\n",
    "\n",
    "print(dict.items())\n",
    "\n",
    "print(dict.keys())\n",
    "\n",
    "print(dict.values())\n",
    "\n",
    "dict2 = {'height':'10'}\n",
    "dict.update(dict2)\n",
    "print(dict)\n",
    "\n",
    "print(dict.pop('name'))\n",
    "\n",
    "print(dict.popitem())"
   ]
  },
  {
   "cell_type": "markdown",
   "metadata": {},
   "source": [
    "# 二、集合-set"
   ]
  },
  {
   "cell_type": "markdown",
   "metadata": {},
   "source": [
    "## 定义\n",
    "* 集合（set）是一个无序的不重复元素序列。\n",
    "* 和字典类似，集合也是用{}表示\n",
    "* **特性**  \n",
    "无序的：  所以不可以用位置索引来查找元素\n",
    "不重复的：集合不能存在相同的元素，所以我们可以用集合来去重\n"
   ]
  },
  {
   "cell_type": "markdown",
   "metadata": {},
   "source": [
    "## 创建\n",
    "1. 直接在{}里面输入元素，用逗号隔开\n",
    "2. 用set()方法来创建，注意不可以写逗号\n",
    "3. 创建空集合只能用set()方法，因为{}代表是空字典"
   ]
  },
  {
   "cell_type": "code",
   "execution_count": 6,
   "metadata": {},
   "outputs": [
    {
     "name": "stdout",
     "output_type": "stream",
     "text": [
      "{1, 2, 3, 4, 5}\n",
      "set()\n",
      "{'a', 'b', 'c'}\n"
     ]
    }
   ],
   "source": [
    "set1 = {1,2,3,4,5}\n",
    "set2 = set()\n",
    "set3 = set('abc')\n",
    "print(set1)\n",
    "print(set2)\n",
    "print(set3)"
   ]
  },
  {
   "cell_type": "markdown",
   "metadata": {},
   "source": [
    "## 方法\n",
    "  \n",
    "|方法|描述|\n",
    "|---|---|\n",
    "|add()|为集合添加元素|\n",
    "|clear()|移除集合中的所有元素|\n",
    "|copy()|拷贝一个集合|\n",
    "|difference()|返回多个集合的差集|\n",
    "|difference_update()|移除集合中的元素，该元素在指定的集合也存在。|\n",
    "|discard()|\t删除集合中指定的元素|\n",
    "|intersection()|返回集合的交集|\n",
    "|intersection_update()|删除集合中的元素，该元素在指定的集合中不存在|\n",
    "|isdisjoint()|判断两个集合是否包含相同的元素，如果没有返回 True，否则返回 False。|\n",
    "|issubset()|\t判断指定集合是否为该方法参数集合的子集。|\n",
    "|issuperset()|判断该方法的参数集合是否为指定集合的子集|\n",
    "|pop()|随机移除元素|\n",
    "|remove()|移除指定元素|\n",
    "|symmetric_difference()|返回两个集合中不重复的元素集合。|\n",
    "|symmetric_difference_update()|移除当前集合中在另外一个指定集合相同的元素，并将另外一个指定集合中不同的元素插入到当前集合中。|\n",
    "|union()|返回两个集合的并集|\n",
    "|update()|\t给集合添加元素|"
   ]
  },
  {
   "cell_type": "code",
   "execution_count": 7,
   "metadata": {},
   "outputs": [
    {
     "name": "stdout",
     "output_type": "stream",
     "text": [
      "{'a', 'b', 'c', 's'}\n",
      "{1, 'a', 2, 'b', 'c', 's'}\n",
      "{1, 'a', 2, 'b', 'c'}\n",
      "{1, 'a', 2, 'b', 'c'}\n",
      "{'a', 2, 'b', 'c'}\n",
      "set()\n",
      "True\n",
      "{'a', 'b'}\n",
      "{'c'}\n",
      "False\n",
      "{'a', 'd', 'e', 'b', 'c'}\n"
     ]
    }
   ],
   "source": [
    "set1 = {'a','b','c'}\n",
    "set2 = {'c','d','e'}\n",
    "set3 = {'a','b'}\n",
    "\n",
    "set1.add('s')\n",
    "print(set1)\n",
    "\n",
    "set1.update({1,2})\n",
    "print(set1)\n",
    "\n",
    "set1.remove('s')\n",
    "print(set1)\n",
    "\n",
    "set1.discard('s')\n",
    "print(set1)\n",
    "\n",
    "set1.pop()\n",
    "print(set1)\n",
    "\n",
    "len(set1)\n",
    "\n",
    "set1.clear()\n",
    "print(set1)\n",
    "\n",
    "set1 = {'a','b','c'}\n",
    "print('a' in set1)\n",
    "\n",
    "print(set1.difference(set2))\n",
    "print(set1.intersection(set2))\n",
    "print(set1.isdisjoint(set2))\n",
    "print(set1.union(set2))"
   ]
  },
  {
   "cell_type": "markdown",
   "metadata": {},
   "source": [
    "# 三、file文件读取"
   ]
  },
  {
   "cell_type": "markdown",
   "metadata": {},
   "source": [
    "## 打开文件方式\n",
    "* open()方法\n",
    "用于打开一个文件，并返回文件对象，在对文件进行处理过程都需要使用到这个函数，如果该文件无法被打开，会抛出 OSError。  \n",
    "    \n",
    "注意：使用 open() 方法一定要保证关闭文件对象，即调用 close() 方法。  \n",
    "  \n",
    "open() 函数常用形式是接收两个参数：文件名(file)和模式(mode)。   \n",
    "  \n",
    "```\n",
    "open(file, mode='r', buffering=-1, encoding=None, errors=None, newline=None, closefd=True, opener=None)\n",
    "\n",
    "```"
   ]
  },
  {
   "cell_type": "code",
   "execution_count": 8,
   "metadata": {},
   "outputs": [
    {
     "data": {
      "text/plain": [
       "'python学习 咖喱 胡骞\\n'"
      ]
     },
     "execution_count": 8,
     "metadata": {},
     "output_type": "execute_result"
    }
   ],
   "source": [
    "# 打开作业\n",
    "plan1 = open('homework.txt', mode='r',encoding='UTF-8') # 只读\n",
    "plan2 = open('homework.txt', mode='r+',encoding='UTF-8')# 读写\n",
    "\n",
    "plan1.readline()"
   ]
  },
  {
   "cell_type": "markdown",
   "metadata": {},
   "source": [
    "## 文件对象的操作方法\n",
    "|方法|描述|\n",
    "|---|---|\n",
    "|file.close()|关闭文件。关闭后文件不能再进行读写操作。|\n",
    "|file.flush()|刷新文件内部缓冲，直接把内部缓冲区的数据立刻写入文件, 而不是被动的等待输出缓冲区写入。|\n",
    "|file.fileno()|返回一个整型的文件描述符(file descriptor FD 整型), 可以用在如os模块的read方法等一些底层操作上。|\n",
    "|file.next()|返回文件下一行。|\n",
    "|file.read([size])|从文件读取指定的字节数，如果未给定或为负则读取所有。|\n",
    "|file.readline([size])|读取整行，包括 \"\\n\" 字符。|\n",
    "|\t\n",
    "file.readlines([sizeint])|读取所有行并返回列表，若给定sizeint>0，返回总和大约为sizeint字节的行, 实际读取值可能比 sizeint 较大, 因为需要填充缓冲区。|\n",
    "|file.write(str)|将字符串写入文件，返回的是写入的字符长度。|\n",
    "|file.seek(offset[, whence])|设置文件当前位置|"
   ]
  },
  {
   "cell_type": "markdown",
   "metadata": {},
   "source": [
    "## excel及csv文件操作\n",
    "* excel或csv文件可以直接通过pandas库的方法实现。  \n",
    "* read_csv(filepath_or_buffer, sep=', ', delimiter=None, header='infer', names=None, index_col=None...)   \n",
    "* read_excel(io, sheet_name=0, header=0, names=None...)\n",
    "  \n",
    "[read_csv] https://pandas.pydata.org/pandas-docs/stable/reference/api/pandas.read_csv.html  \n",
    "[read_excel] https://pandas.pydata.org/pandas-docs/stable/reference/api/pandas.read_excel.html#pandas.read_excel  "
   ]
  },
  {
   "cell_type": "markdown",
   "metadata": {},
   "source": [
    "# 四、作业"
   ]
  },
  {
   "cell_type": "markdown",
   "metadata": {},
   "source": [
    "读取一个文件，将文件中的数据转换为字典，key值为学习项目，value值为一个负责人列表，并判断字典中是否有负责人负责多个学习项目。"
   ]
  },
  {
   "cell_type": "code",
   "execution_count": 9,
   "metadata": {},
   "outputs": [
    {
     "name": "stdout",
     "output_type": "stream",
     "text": [
      "{'python学习': ['咖喱', '胡骞'], 'leetcode刷题': ['老表', '陈焕森'], '编程集训': ['孙超', '小熊'], '统计学': ['李奇峰', '蓝昔'], 'ML项目实践': ['杨冰楠', '孙涛'], '高级算法梳理': ['于鸿飞', '小雪'], '基础算法梳理': ['sm1les', '钱令武'], '知乎小组': ['李严', '黑桃'], '学习群': ['咖喱', '排骨']}\n"
     ]
    }
   ],
   "source": [
    "# 打开文档,注意编码，需要指定UTF-8\n",
    "homework = open('homework.txt', mode='r',encoding='UTF-8') # 只读\n",
    "\n",
    "dict = {}\n",
    "# 遍历txt里的每一行\n",
    "# 每行第一个值是key，剩下的是value\n",
    "# 数据比较规整，都是第二个和第三个值是value\n",
    "# value用列表表示\n",
    "# 思考？如何实现不论后面多少个值都写入value?\n",
    "for line in homework.readlines():\n",
    "    line = line.strip()\n",
    "    dict[line.split()[0]] = [line.split()[1], line.split()[2]]\n",
    "homework.close()\n",
    "print(dict)"
   ]
  },
  {
   "cell_type": "code",
   "execution_count": 10,
   "metadata": {},
   "outputs": [
    {
     "name": "stdout",
     "output_type": "stream",
     "text": [
      "{'python学习': ['咖喱', '胡骞'], 'leetcode刷题': ['老表', '陈焕森'], '编程集训': ['孙超', '小熊'], '统计学': ['李奇峰', '蓝昔'], 'ML项目实践': ['杨冰楠', '孙涛'], '高级算法梳理': ['于鸿飞', '小雪'], '基础算法梳理': ['sm1les', '钱令武'], '知乎小组': ['李严', '黑桃'], '学习群': ['咖喱', '排骨']}\n"
     ]
    }
   ],
   "source": [
    "homework = open('homework.txt', mode='r',encoding='UTF-8')\n",
    "dict2 = {}\n",
    "# 读取每行第二个值 - 最后一个(即line的长度)\n",
    "for line in homework.readlines():\n",
    "    line = line.strip()\n",
    "    dict2[line.split()[0]] = line.split()[1:len(line)]\n",
    "homework.close()\n",
    "print(dict2)"
   ]
  },
  {
   "cell_type": "code",
   "execution_count": 11,
   "metadata": {},
   "outputs": [
    {
     "name": "stdout",
     "output_type": "stream",
     "text": [
      "原始人数: 18 去重后人数: 17\n",
      "有人负责两个及以上项目\n"
     ]
    }
   ],
   "source": [
    "# 判断负责人是否负责多个项目\n",
    "\n",
    "# 方法一 在所有的value里有重复值就说明有人负责多个项目\n",
    "list = []\n",
    "for v in dict.values():\n",
    "    list.extend(v)\n",
    "\n",
    "print('原始人数:',len(list),'去重后人数:', len(set(list)))    \n",
    "    \n",
    "if len(list) == len(set(list)):\n",
    "    print('无人负责两个及以上项目')\n",
    "else:\n",
    "    print('有人负责两个及以上项目')"
   ]
  },
  {
   "cell_type": "code",
   "execution_count": 12,
   "metadata": {},
   "outputs": [
    {
     "name": "stdout",
     "output_type": "stream",
     "text": [
      "负责两个或以上的项目的人是： 咖喱\n"
     ]
    }
   ],
   "source": [
    "# 方法二 可以显示出是谁负责多个项目\n",
    "dupes = [x for n, x in enumerate(list) if x in list[:n]]\n",
    "print('负责两个或以上的项目的人是：', ''.join(dupes))"
   ]
  }
 ],
 "metadata": {
  "kernelspec": {
   "display_name": "Python 3",
   "language": "python",
   "name": "python3"
  },
  "language_info": {
   "codemirror_mode": {
    "name": "ipython",
    "version": 3
   },
   "file_extension": ".py",
   "mimetype": "text/x-python",
   "name": "python",
   "nbconvert_exporter": "python",
   "pygments_lexer": "ipython3",
   "version": "3.7.0"
  }
 },
 "nbformat": 4,
 "nbformat_minor": 2
}
