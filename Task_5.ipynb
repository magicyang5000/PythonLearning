{
 "cells": [
  {
   "cell_type": "markdown",
   "metadata": {},
   "source": [
    "# 作业\n",
    "1. 请用户输入一个时间，输出选项所对应的现在时间，告诉用户这两个时间相隔的天数，小时数，分钟数和秒数。\n",
    "2. 请用户输入电话及邮箱，判断用户输入是否合法。\n",
    "3. 对http://www.baidu.com 进行请求，并用正则化匹配图片内容。将百度图标爬取下来保存至本地"
   ]
  },
  {
   "cell_type": "code",
   "execution_count": 7,
   "metadata": {},
   "outputs": [
    {
     "name": "stdout",
     "output_type": "stream",
     "text": [
      "请输入时间(格式为YYYY-MM-DD H:M:S):2019-01-01 12:12:12\n",
      "您输入的时间和现在相差： 29  天\n",
      "您输入的时间和现在相差： 96.27777777777777  小时\n",
      "您输入的时间和现在相差： 577.6666666666666  分\n",
      "您输入的时间和现在相差： 34660  秒\n"
     ]
    }
   ],
   "source": [
    "# 作业一\n",
    "from datetime import datetime\n",
    "import time\n",
    "now = datetime.now()\n",
    "a = input(\"请输入时间(格式为YYYY-MM-DD H:M:S):\")\n",
    "user_time = datetime.strptime(a, '%Y-%m-%d %H:%M:%S')\n",
    "\n",
    "\n",
    "print('您输入的时间和现在相差：',(now - user_time).days, ' 天')\n",
    "print('您输入的时间和现在相差：',(now-user_time).seconds / 360,' 小时')\n",
    "print('您输入的时间和现在相差：',(now-user_time).seconds / 60,' 分')\n",
    "print('您输入的时间和现在相差：',(now-user_time).seconds,' 秒')"
   ]
  },
  {
   "cell_type": "code",
   "execution_count": 17,
   "metadata": {},
   "outputs": [
    {
     "name": "stdout",
     "output_type": "stream",
     "text": [
      "请输入您的手机号:1526\n",
      "this is not a phone number\n",
      "请输入您的邮箱:16384@qq.com\n",
      "your email is  16384@qq.com\n"
     ]
    }
   ],
   "source": [
    "# 作业二\n",
    "# 判断输入为手机号码\n",
    "import re\n",
    "phone_rule =re.compile('^0\\d{2,3}\\d{7,8}$|^1[358]\\d{9}$|^147\\d{8}')\n",
    "phone = input('请输入您的手机号:')\n",
    "phone_match = phone_rule.match(phone)\n",
    "\n",
    "if phone_match:\n",
    "    print('your telephone no is :',phone_match.group())\n",
    "else:\n",
    "    print('this is not a phone number')\n",
    "\n",
    "# 判断输入是否是邮箱\n",
    "email = input('请输入您的邮箱:')\n",
    "email_rule = re.compile('^[^\\._-][\\w\\.-]+@(?:[A-Za-z0-9]+\\.)+[A-Za-z]+')\n",
    "email_match = email_rule.match(email)\n",
    "\n",
    "if email_match:\n",
    "    print('your email is ',email_match.group())\n",
    "else:\n",
    "    print(\"email error...\")"
   ]
  },
  {
   "cell_type": "code",
   "execution_count": 31,
   "metadata": {},
   "outputs": [],
   "source": [
    "# 作业三\n",
    "import requests\n",
    "import urllib.request\n",
    "\n",
    "r = requests.get('http://www.baidu.com')\n",
    "reg = 'src=\"(.+?\\.png)\"'\n",
    "imgre = re.compile(reg)\n",
    "pics = re.findall(imgre, r.text)\n",
    "for i in pics:\n",
    "    urllib.request.urlretrieve(pic,'%s.jpg')"
   ]
  }
 ],
 "metadata": {
  "kernelspec": {
   "display_name": "Python 3",
   "language": "python",
   "name": "python3"
  },
  "language_info": {
   "codemirror_mode": {
    "name": "ipython",
    "version": 3
   },
   "file_extension": ".py",
   "mimetype": "text/x-python",
   "name": "python",
   "nbconvert_exporter": "python",
   "pygments_lexer": "ipython3",
   "version": "3.7.0"
  }
 },
 "nbformat": 4,
 "nbformat_minor": 2
}
