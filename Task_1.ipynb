{
  "nbformat": 4,
  "nbformat_minor": 0,
  "metadata": {
    "colab": {
      "name": "Task 1.ipynb",
      "version": "0.3.2",
      "provenance": [],
      "collapsed_sections": []
    },
    "kernelspec": {
      "name": "python3",
      "display_name": "Python 3"
    },
    "accelerator": "GPU"
  },
  "cells": [
    {
      "metadata": {
        "id": "JLe1lbCzlXgF",
        "colab_type": "text"
      },
      "cell_type": "markdown",
      "source": [
        "# 1. 环境配置\n",
        "* anaconda环境配置  \n",
        "小白建议直接安装anaconda，非常方便。安装完了之后，如果遇到问题就一个个google搜索解决即可。  \n",
        "详细资料如下：    \n",
        "[Anaconda介绍、安装及使用教程] https://zhuanlan.zhihu.com/p/32925500  \n",
        "[anaconda官网] https://www.anaconda.com/\n",
        "  \n",
        "* 解释器  IDE  \n",
        "一般如果是进行项目管理，建议用pycharm。  \n",
        "如果是数据分析建议spyder+Jupyter Notebook（这两个是Anaconda安装自带）  \n",
        "[推荐10 款最好的 Python IDE] http://www.runoob.com/w3cnote/best-python-ide-for-developers.html"
      ]
    },
    {
      "metadata": {
        "id": "gADhIdV3okum",
        "colab_type": "text"
      },
      "cell_type": "markdown",
      "source": [
        "#2. Python初体验\n",
        "print() 函数是打印内容  \n",
        "input() 函数可以让用户自主输入内容，可以设置一些提醒内容。"
      ]
    },
    {
      "metadata": {
        "id": "Pq5HISX1osQ9",
        "colab_type": "code",
        "colab": {
          "base_uri": "https://localhost:8080/",
          "height": 69
        },
        "outputId": "2a35a963-766e-4cf8-8f99-5af87fcb60db"
      },
      "cell_type": "code",
      "source": [
        "print('Hello World!') # 学习程序第一行代码标配:-)\n",
        "input('Please enter test:')"
      ],
      "execution_count": 24,
      "outputs": [
        {
          "output_type": "stream",
          "text": [
            "Hello World!\n",
            "Please enter test:Hello World\n"
          ],
          "name": "stdout"
        },
        {
          "output_type": "execute_result",
          "data": {
            "text/plain": [
              "'Hello World'"
            ]
          },
          "metadata": {
            "tags": []
          },
          "execution_count": 24
        }
      ]
    },
    {
      "metadata": {
        "id": "f9hoFiYRq4a2",
        "colab_type": "text"
      },
      "cell_type": "markdown",
      "source": [
        "#3.Python基础讲解\n"
      ]
    },
    {
      "metadata": {
        "id": "dRPdG06EICHy",
        "colab_type": "text"
      },
      "cell_type": "markdown",
      "source": [
        "## python变量特性以及命名规则\n",
        "在Python中，等号=是赋值语句，可以把任意数据类型赋值给变量，同一个变量可以反复赋值，而且可以是不同类型的变量。  \n",
        "  \n",
        "这种变量本身类型不固定的语言称之为动态语言，与之对应的是静态语言。静态语言在定义变量时必须指定变量类型，如果赋值的时候类型不匹配，就会报错。\n",
        "\n",
        "命名规范:\n",
        "1. 变量名必须是大小写英文、数字和_的组合，且不能用数字开头\n",
        "2. 其他见PEP8规范\n",
        "\n",
        "\n",
        "[廖雪峰-数据类型和变量] https://www.liaoxuefeng.com/wiki/0014316089557264a6b348958f449949df42a6d3a2e542c000/001431658624177ea4f8fcb06bc4d0e8aab2fd7aa65dd95000"
      ]
    },
    {
      "metadata": {
        "id": "1G2WuLfvIB5t",
        "colab_type": "text"
      },
      "cell_type": "markdown",
      "source": [
        "## 注释方法\n",
        "1. 单行注释用 # \n",
        "2. 多行注释在开始和结尾用三个单引号或三个双引号表示"
      ]
    },
    {
      "metadata": {
        "id": "MOIkFdEGJXMq",
        "colab_type": "code",
        "colab": {
          "base_uri": "https://localhost:8080/",
          "height": 35
        },
        "outputId": "275582c2-e777-4f02-b753-838c2857e26e"
      },
      "cell_type": "code",
      "source": [
        "# 这是单行注释\n",
        "\n",
        "'''\n",
        "这是多行注释\n",
        "'''\n",
        "\n",
        "\"\"\"\n",
        "这也是多行注释\n",
        "这也是注释\n",
        "\"\"\""
      ],
      "execution_count": 23,
      "outputs": [
        {
          "output_type": "execute_result",
          "data": {
            "text/plain": [
              "'\\n这也是多行注释\\n这也是注释\\n'"
            ]
          },
          "metadata": {
            "tags": []
          },
          "execution_count": 23
        }
      ]
    },
    {
      "metadata": {
        "id": "R6L8XppwIBwq",
        "colab_type": "text"
      },
      "cell_type": "markdown",
      "source": [
        "## python中 “:” 作用\n"
      ]
    },
    {
      "metadata": {
        "id": "vPaGK2KdIBjr",
        "colab_type": "text"
      },
      "cell_type": "markdown",
      "source": [
        "## dir( )及和help( )\n",
        "1. 在 Python 中，有大量的内置模块，模块中的定义（例如：变量、函数、类）众多，不可能全部都记住，这时 dir() 函数就非常有用了。  \n",
        "\n",
        "  dir() 是一个内置函数，用于列出对象的所有属性及方法。在 Python 中，一切皆对象，模块也不例外，所以模块也可以使用 dir()。除了常用定义外，其它的不需要全部记住它，交给 dir() 就好了。  \n",
        "\n",
        "2. help() 函数Python 内置函数描述help() 函数用于查看函数或模块用途的详细说明。应当多使用help函数，学会看官方解释文档。"
      ]
    },
    {
      "metadata": {
        "id": "g2SKcFPFLGQY",
        "colab_type": "code",
        "colab": {
          "base_uri": "https://localhost:8080/",
          "height": 295
        },
        "outputId": "0b7ea4e5-ecb7-4596-9d13-d2e3dd165188"
      },
      "cell_type": "code",
      "source": [
        "import math\n",
        "dir(math)\n",
        "\n",
        "help(dir)"
      ],
      "execution_count": 21,
      "outputs": [
        {
          "output_type": "stream",
          "text": [
            "Help on built-in function dir in module builtins:\n",
            "\n",
            "dir(...)\n",
            "    dir([object]) -> list of strings\n",
            "    \n",
            "    If called without an argument, return the names in the current scope.\n",
            "    Else, return an alphabetized list of names comprising (some of) the attributes\n",
            "    of the given object, and of attributes reachable from it.\n",
            "    If the object supplies a method named __dir__, it will be used; otherwise\n",
            "    the default dir() logic is used and returns:\n",
            "      for a module object: the module's attributes.\n",
            "      for a class object:  its attributes, and recursively the attributes\n",
            "        of its bases.\n",
            "      for any other object: its attributes, its class's attributes, and\n",
            "        recursively the attributes of its class's base classes.\n",
            "\n"
          ],
          "name": "stdout"
        }
      ]
    },
    {
      "metadata": {
        "id": "_HNHPCDQIGLh",
        "colab_type": "text"
      },
      "cell_type": "markdown",
      "source": [
        "## import使用\n",
        "在 python 用 import 或者 from...import 来导入相应的模块。\n",
        "\n",
        "将整个模块(somemodule)导入，格式为： import somemodule\n",
        "\n",
        "从某个模块中导入某个函数,格式为： from somemodule import somefunction\n",
        "\n",
        "从某个模块中导入多个函数,格式为： from somemodule import firstfunc, secondfunc, thirdfunc\n",
        "\n",
        "将某个模块中的全部函数导入，格式为： from somemodule import * (一般情况下不使用该方法)"
      ]
    },
    {
      "metadata": {
        "id": "4IHGh0U0LMbZ",
        "colab_type": "code",
        "colab": {}
      },
      "cell_type": "code",
      "source": [
        "import os\n",
        "from sys import argv,path"
      ],
      "execution_count": 0,
      "outputs": []
    },
    {
      "metadata": {
        "id": "pKO8BcoVIFz6",
        "colab_type": "text"
      },
      "cell_type": "markdown",
      "source": [
        "## pep8编规范\n",
        "      从以下几个方面规定了python编码规范（详细内容见参考链接）：  \n",
        "      缩进  \n",
        "      制表符还是空格？\n",
        "      行的最大长度\n",
        "      空行\n",
        "      源文件编码\n",
        "      导入\n",
        "      无法忍受的\n",
        "      其它建议\n",
        "      注释块\n",
        "      行内注释\n",
        "      文档字符串\n",
        "      根本原则\n",
        "      描述：命名风格\n",
        "      规定：命名约定\n",
        "\n",
        "[PEP8中文版 -- Python编码风格指南] https://zh-google-styleguide.readthedocs.io/en/latest/google-python-styleguide/python_style_rules/"
      ]
    },
    {
      "metadata": {
        "id": "2lbVA-PqrG31",
        "colab_type": "text"
      },
      "cell_type": "markdown",
      "source": [
        "#4.Python数值基本知识\n",
        "\n",
        "\n"
      ]
    },
    {
      "metadata": {
        "id": "skFboRPlBFhX",
        "colab_type": "text"
      },
      "cell_type": "markdown",
      "source": [
        "## python中数据类型\n",
        "Python 中的变量不需要声明。每个变量在使用前都必须赋值，变量赋值以后该变量才会被创建。  \n",
        "在 Python 中，变量就是变量，它没有类型，我们所说的\"类型\"是变量所指的内存中对象的类型。  \n",
        "等号（=）用来给变量赋值。  \n",
        "等号（=）运算符左边是一个变量名,等号（=）运算符右边是存储在变量中的值。    \n",
        "   \n",
        "     \n",
        "**Python3 中有六个标准的数据类型：**  \n",
        "Number（数字）  \n",
        "String（字符串）  \n",
        "List（列表）  \n",
        "Tuple（元组）  \n",
        "Set（集合）  \n",
        "Dictionary（字典）  \n",
        "  \n",
        "    \n",
        "Python3 的六个标准数据类型中：   \n",
        "**不可变数据（3 个）**：Number（数字）、String（字符串）、Tuple（元组）；  \n",
        "**可变数据（3 个）**：List（列表）、Dictionary（字典）、Set（集合）。"
      ]
    },
    {
      "metadata": {
        "id": "vFJ8jS2YACIJ",
        "colab_type": "code",
        "colab": {}
      },
      "cell_type": "code",
      "source": [
        "a = 123                          # 数字\n",
        "b = 'Hello'                      # 字符串\n",
        "c = ['a', 'b', 'c']              # 列表\n",
        "d = ('a', 'b', 'c')              # 元祖\n",
        "e = {'a', 'b', 'c'}              # 集合\n",
        "f = {'name':'magic','sex':'male} # 字典"
      ],
      "execution_count": 0,
      "outputs": []
    },
    {
      "metadata": {
        "id": "lLRzkEEV_-k_",
        "colab_type": "text"
      },
      "cell_type": "markdown",
      "source": [
        "## 算数运算符\n",
        "加减乘除 取余 乘方\n",
        "\n",
        "  \n",
        "[算术运算符] http://www.runoob.com/python3/python3-basic-operators.html#ysf1"
      ]
    },
    {
      "metadata": {
        "id": "yM8dBs0UBkbn",
        "colab_type": "code",
        "colab": {
          "base_uri": "https://localhost:8080/",
          "height": 35
        },
        "outputId": "0b10e90f-9e71-42e9-fa28-8aa6f7064585"
      },
      "cell_type": "code",
      "source": [
        "5 + 4   # 加法\n",
        "4.3 - 2 # 减法\n",
        "3 * 7   # 乘法\n",
        "2 / 4   # 除法，得到一个浮点数\n",
        "2 // 4  # 除法，得到一个整数\n",
        "17 % 3  # 取余 \n",
        "2 ** 5  # 乘方"
      ],
      "execution_count": 5,
      "outputs": [
        {
          "output_type": "execute_result",
          "data": {
            "text/plain": [
              "32"
            ]
          },
          "metadata": {
            "tags": []
          },
          "execution_count": 5
        }
      ]
    },
    {
      "metadata": {
        "id": "Q7m0UZjFCEgs",
        "colab_type": "text"
      },
      "cell_type": "markdown",
      "source": [
        "## 逻辑运算符\n",
        "Python语言支持逻辑运算符，以下假设变量 a 为 10, b为 20:\n",
        "  \n",
        "|运算符\t|逻辑表达式\t|描述\t|实例|\n",
        "| --- |---|---|---|\n",
        "|and|\tx and y|\t布尔\"与\" - 如果 x 为 False，x and y 返回 False，否则它返回 y 的计算值。|\t(a and b) 返回 20。\n",
        "|or\t|x or y\t|布尔\"或\" - 如果 x 是 True，它返回 x 的值，否则它返回 y 的计算值。|\t(a or b) 返回 10。\n",
        "|not|\tnot x\t|布尔\"非\" - 如果 x 为 True，返回 False 。如果 x 为 False，它返回 True。\t|not(a and b) 返回 Fals\n",
        "\n",
        "[逻辑运算符] http://www.runoob.com/python3/python3-data-type.html\n"
      ]
    },
    {
      "metadata": {
        "id": "ebIAgHjRFTBw",
        "colab_type": "code",
        "colab": {
          "base_uri": "https://localhost:8080/",
          "height": 35
        },
        "outputId": "559617c3-19a2-4e1d-a9c5-f15bd761689b"
      },
      "cell_type": "code",
      "source": [
        "a = 10\n",
        "b = 20\n",
        "a and b\n",
        "a or b\n",
        "not(a and b)"
      ],
      "execution_count": 11,
      "outputs": [
        {
          "output_type": "execute_result",
          "data": {
            "text/plain": [
              "False"
            ]
          },
          "metadata": {
            "tags": []
          },
          "execution_count": 11
        }
      ]
    },
    {
      "metadata": {
        "id": "jVtCDRvOEzxg",
        "colab_type": "text"
      },
      "cell_type": "markdown",
      "source": [
        "## 成员运算符\n",
        "除了以上的一些运算符之外，Python还支持成员运算符，测试实例中包含了一系列的成员，包括字符串，列表或元组。  \n",
        "  \n",
        "|运算符\t|描述\t|实例|\n",
        "|---|---|---|\n",
        "|in\t|如果在指定的序列中找到值返回 True，否则返回 False。\t|x 在 y 序列中 , 如果 x 在 y 序列中返回 True。\n",
        "|not in\t|如果在指定的序列中没有找到值返回 True，否则返回 False。|\tx 不在 y 序列中 , 如果 x 不在 y 序列中返回 True\n",
        "  \n",
        "[成员运算符] http://www.runoob.com/python3/python3-data-type.html\n"
      ]
    },
    {
      "metadata": {
        "id": "NZzaK9Z2Fnbp",
        "colab_type": "code",
        "colab": {
          "base_uri": "https://localhost:8080/",
          "height": 35
        },
        "outputId": "daac246b-d759-4ba0-ed8c-30de9e5efabe"
      },
      "cell_type": "code",
      "source": [
        "list = [1, 2, 3, 4, 5 ]\n",
        "1 in list"
      ],
      "execution_count": 12,
      "outputs": [
        {
          "output_type": "execute_result",
          "data": {
            "text/plain": [
              "True"
            ]
          },
          "metadata": {
            "tags": []
          },
          "execution_count": 12
        }
      ]
    },
    {
      "metadata": {
        "id": "kgK8GGc0FEtA",
        "colab_type": "text"
      },
      "cell_type": "markdown",
      "source": [
        "## 身份运算符\n",
        "身份运算符用于比较两个对象的存储单元\n",
        "   \n",
        "|运算符\t|描述\t|实例|\n",
        "|---|---|---|\n",
        "|is\t|is 是判断两个标识符是不是引用自一个对象|\tx is y, 类似 id(x) == id(y) , 如果引用的是同一个对象则返回 True，否则返回 False\n",
        "|is not\t|is not 是判断两个标识符是不是引用自不同对象\t|x is not y ， 类似 id(a) != id(b)。如果引用的不是同一个对象则返回结果 True，否则返回 False。\n",
        "  \n",
        "注： id() 函数用于获取对象内存地址。  \n",
        "[身份运算符] http://www.runoob.com/python3/python3-data-type.html\n"
      ]
    },
    {
      "metadata": {
        "id": "MNV_XPzaGHZU",
        "colab_type": "code",
        "colab": {
          "base_uri": "https://localhost:8080/",
          "height": 35
        },
        "outputId": "5e25610a-0a31-4289-85d1-66ae880edbe0"
      },
      "cell_type": "code",
      "source": [
        "a = 10\n",
        "b = 20\n",
        "a is b\n",
        "\n",
        "a = 20\n",
        "a is b"
      ],
      "execution_count": 14,
      "outputs": [
        {
          "output_type": "execute_result",
          "data": {
            "text/plain": [
              "True"
            ]
          },
          "metadata": {
            "tags": []
          },
          "execution_count": 14
        }
      ]
    },
    {
      "metadata": {
        "id": "dmvCFRBdFHBY",
        "colab_type": "text"
      },
      "cell_type": "markdown",
      "source": [
        "## 运算符优先级\n",
        "以下表格列出了从最高到最低优先级的所有运算符：\n",
        "  \n",
        "|运算符\t|描述|\n",
        "|---|---|\n",
        "|**\t|指数 (最高优先级)\n",
        "|~ + -\t|按位翻转, 一元加号和减号 (最后两个的方法名为 +@ 和 -@)\n",
        "|* / % //\t|乘，除，取模和取整除\n",
        "|+ -\t|加法减法\n",
        "|>> <<\t|右移，左移运算符\n",
        "|&\t|位 'AND'\n",
        "|^  \t|位运算符\n",
        "|<= < > >=\t|比较运算符\n",
        "|<> == !=\t|等于运算符\n",
        "|= %= /= //= -= += *= **=\t|赋值运算符\n",
        "|is is not\t|身份运算符\n",
        "|in not in\t|成员运算符\n",
        "|and or not\t|逻辑运算符  \n",
        "  \n",
        "[运算符优先级] http://www.runoob.com/python3/python3-data-type.html"
      ]
    },
    {
      "metadata": {
        "id": "OCrFHrbjHfYP",
        "colab_type": "code",
        "colab": {
          "base_uri": "https://localhost:8080/",
          "height": 87
        },
        "outputId": "1133711c-aea7-4d39-bee0-590871c1fea0"
      },
      "cell_type": "code",
      "source": [
        "a = 20\n",
        "b = 10\n",
        "c = 30\n",
        "d = 6\n",
        "e = 1\n",
        "\n",
        "e = (a + b) * c / d\n",
        "print (\"(a + b) * c / d 运算结果为：\",  e)\n",
        "\n",
        "e = ((a + b) * c) / d\n",
        "print (\"((a + b) * c) / d 运算结果为：\",  e)\n",
        "\n",
        "e = (a + b) * (c / d)\n",
        "print (\"(a + b) * (c / d) 运算结果为：\",  e)\n",
        "\n",
        "e = a + (b * c) / d\n",
        "print (\"a + (b * c) / d 运算结果为：\",  e)"
      ],
      "execution_count": 18,
      "outputs": [
        {
          "output_type": "stream",
          "text": [
            "(a + b) * c / d 运算结果为： 150.0\n",
            "((a + b) * c) / d 运算结果为： 150.0\n",
            "(a + b) * (c / d) 运算结果为： 150.0\n",
            "a + (b * c) / d 运算结果为： 70.0\n"
          ],
          "name": "stdout"
        }
      ]
    },
    {
      "metadata": {
        "id": "GXOKWQkprSPV",
        "colab_type": "text"
      },
      "cell_type": "markdown",
      "source": [
        "#5.string字符串\n"
      ]
    },
    {
      "metadata": {
        "id": "onlfAj9PBLG5",
        "colab_type": "text"
      },
      "cell_type": "markdown",
      "source": [
        "## 定义及基本操作  \n",
        "字符串是 Python 中最常用的数据类型。我们可以使用引号( ' 或 \" )来创建字符串。\n",
        "  \n",
        "  常见操作有：  (更详细的见参考资料)  \n",
        "    \n",
        "| 操作符\t| 描述\t|\n",
        "| :---| :---|\n",
        "|+\t|字符串连接\t|\n",
        "|*\t|重复输出字符串|\n",
        "|[]\t|通过索引获取字符串中字符\t|\n",
        "|[ : ]\t|截取字符串中的一部分，遵循左闭右开原则，str[0,2] 是不包含第 3 个字符的。\t|\n",
        "|in\t|成员运算符 - 如果字符串中包含给定的字符返回 True\t|\n",
        "|not in\t|成员运算符 - 如果字符串中不包含给定的字符返回 True|\t"
      ]
    },
    {
      "metadata": {
        "id": "c97SH3n-yBn8",
        "colab_type": "code",
        "colab": {
          "base_uri": "https://localhost:8080/",
          "height": 121
        },
        "outputId": "4651a171-f0e6-4a77-a6a4-d2d36c7ff5ac"
      },
      "cell_type": "code",
      "source": [
        "# 定义\n",
        "a = 'Hello ' \n",
        "b = 'World'\n",
        "\n",
        "print(a + b)          # 两个字符串链接 \n",
        "print(a * 2)          # 重复输出\n",
        "print(a[2])           # 查找字符串中第三个字符\n",
        "print(a[0:2])         # 从第一个开始到第三个字符，包含第一个，不包含第三个\n",
        "print('H' in a)       # 判断H是否在a中\n",
        "print('H' not in b)   # 判断H是不是不存在在b中"
      ],
      "execution_count": 3,
      "outputs": [
        {
          "output_type": "stream",
          "text": [
            "Hello World\n",
            "Hello Hello \n",
            "l\n",
            "He\n",
            "True\n",
            "True\n"
          ],
          "name": "stdout"
        }
      ]
    },
    {
      "metadata": {
        "id": "Er2VrSFRzGg-",
        "colab_type": "text"
      },
      "cell_type": "markdown",
      "source": [
        "\n",
        "* ## 字符串相关方法  \n",
        "python中字符串的方法很多，这里只大致介绍下范围   \n",
        "可分为八大类： (对应函数只是列出一部分，更详细的见参考资料)  \n",
        "  \n",
        "|方法|对应函数|  \n",
        "| --- | --- |\n",
        "|大小写转换|lower/upper/title  \n",
        "|isXXX判断   |isalpha/isdecimal/islower/ isspace\n",
        "|填充|center/ljust/zfill\n",
        "|子串搜索|count/startswith/find/index\n",
        "|替换|replace/expandtabs/translate\n",
        "|分割|partition/split/splitlines\n",
        "|join|join\n",
        "|修剪|strip/lstrip/rstrip\n",
        " "
      ]
    },
    {
      "metadata": {
        "id": "egO3eePk9svF",
        "colab_type": "code",
        "colab": {
          "base_uri": "https://localhost:8080/",
          "height": 35
        },
        "outputId": "47540a08-553e-4ea0-8159-f089ea824658"
      },
      "cell_type": "code",
      "source": [
        "a = 'Hello World'\n",
        "a.lower()\n",
        "a.upper()\n",
        "a.islower()\n"
      ],
      "execution_count": 1,
      "outputs": [
        {
          "output_type": "execute_result",
          "data": {
            "text/plain": [
              "False"
            ]
          },
          "metadata": {
            "tags": []
          },
          "execution_count": 1
        }
      ]
    },
    {
      "metadata": {
        "id": "r2kYy4qRzH7E",
        "colab_type": "text"
      },
      "cell_type": "markdown",
      "source": [
        "* ## 字符串格式化问题  \n",
        "格式化操作符（%）  \n",
        "\"%\"是Python风格的字符串格式化操作符，非常类似C语言里的printf()函数的字符串格式化（C语言中也是使用%）。\n",
        "\n",
        "  常见的python字符串格式化符号: (更详细的见参考资料)  \n",
        "  \n",
        "  \n",
        "  \n",
        " | 符号 |\t描述 |  \n",
        "     | :---- | :---- |   \n",
        "     | %c\t  | 格式化字符及其ASCII码 |  \n",
        "     | %s\t  | 格式化字符串 |  \n",
        "     | %d\t  | 格式化整数 |  \n",
        "       \n",
        "         "
      ]
    },
    {
      "metadata": {
        "id": "1LfKKRu9zNWc",
        "colab_type": "code",
        "colab": {
          "base_uri": "https://localhost:8080/",
          "height": 35
        },
        "outputId": "a9a29677-b8a1-47f1-a515-8b0ebd2d4352"
      },
      "cell_type": "code",
      "source": [
        "print (\"我叫 %s 今年 %d 岁!\" % ('小明', 10))"
      ],
      "execution_count": 2,
      "outputs": [
        {
          "output_type": "stream",
          "text": [
            "我叫 小明 今年 10 岁!\n"
          ],
          "name": "stdout"
        }
      ]
    },
    {
      "metadata": {
        "id": "bOMNRzv-zOZD",
        "colab_type": "text"
      },
      "cell_type": "markdown",
      "source": [
        "## 参考资料\n",
        "[菜鸟教程-Python3 字符串] http://www.runoob.com/python3/python3-string.html   \n",
        "[python字符串(string)方法整理] https://www.cnblogs.com/f-ck-need-u/p/9127699.html\n",
        "  "
      ]
    },
    {
      "metadata": {
        "id": "HcX9cJh_reFE",
        "colab_type": "text"
      },
      "cell_type": "markdown",
      "source": [
        "#6.作业\n",
        "作业要求：要求用户依次输入姓名，性别，年龄，并对用户信息进行输出格式如下：您的姓名是：XXX，您的性别是：XXX，您是XXXX年出生的。"
      ]
    },
    {
      "metadata": {
        "id": "XLShdgTfrpS7",
        "colab_type": "code",
        "colab": {
          "base_uri": "https://localhost:8080/",
          "height": 121
        },
        "outputId": "3338d39c-bcd0-4742-bd9c-c3584cd9f4f6"
      },
      "cell_type": "code",
      "source": [
        "import datetime\n",
        "\n",
        "name = input('请输入您的姓名：')\n",
        "sex = input('请输入您的性别：')\n",
        "age = input('请输入您的年龄：')\n",
        "\n",
        "print('您的姓名是：', name)\n",
        "print('您的性别是：', sex)\n",
        "print('您是', datetime.datetime.now().year - eval(age), '年出生的') \n",
        "\n",
        "# input() 函数默认是str格式的，所以需要将age转换为数值格式，这里用eval函数\n",
        "# eval() 函数用来执行一个字符串表达式，并返回表达式的值。在这里就会返回一个数值。"
      ],
      "execution_count": 23,
      "outputs": [
        {
          "output_type": "stream",
          "text": [
            "请输入您的姓名：magic\n",
            "请输入您的性别：男\n",
            "请输入您的年龄：18\n",
            "您的姓名是： magic\n",
            "您的性别是： 男\n",
            "您是 2001 年出生的\n"
          ],
          "name": "stdout"
        }
      ]
    }
  ]
}