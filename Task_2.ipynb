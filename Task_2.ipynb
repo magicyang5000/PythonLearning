{
  "nbformat": 4,
  "nbformat_minor": 0,
  "metadata": {
    "colab": {
      "name": "Python基础-task2.ipynb",
      "version": "0.3.2",
      "provenance": [],
      "collapsed_sections": []
    },
    "kernelspec": {
      "name": "python3",
      "display_name": "Python 3"
    }
  },
  "cells": [
    {
      "metadata": {
        "id": "oqhup0GGrMdK",
        "colab_type": "text"
      },
      "cell_type": "markdown",
      "source": [
        "# 一、List-列表"
      ]
    },
    {
      "metadata": {
        "id": "yxsI8aLWt1Be",
        "colab_type": "text"
      },
      "cell_type": "markdown",
      "source": [
        "##基础概念\n",
        "1. 列表是由一系列按特定顺序排列的元素组成。\n",
        "2. 在Python中，列表是用方括号 [ ] 表示的，其中每个元素用逗号隔开。\n",
        "3. 列表是有序的，所以它存在位置，或索引，第一个索引是0，第二个索引是1，依此类推。"
      ]
    },
    {
      "metadata": {
        "id": "VN42cahht1Tt",
        "colab_type": "code",
        "colab": {
          "base_uri": "https://localhost:8080/",
          "height": 35
        },
        "outputId": "7d9cd930-1c47-4a2b-a6ef-9b57c4a7a4b3"
      },
      "cell_type": "code",
      "source": [
        "alphabets = ['a','b','c']\n",
        "alphabets\n",
        "family = ['father','mother','brother','me']\n",
        "family"
      ],
      "execution_count": 4,
      "outputs": [
        {
          "output_type": "execute_result",
          "data": {
            "text/plain": [
              "['father', 'mother', 'brother', 'me']"
            ]
          },
          "metadata": {
            "tags": []
          },
          "execution_count": 4
        }
      ]
    },
    {
      "metadata": {
        "id": "CvpagSlSvs24",
        "colab_type": "text"
      },
      "cell_type": "markdown",
      "source": [
        "## 列表操作\n",
        "* **创建列表**  \n",
        "手动创建；数值列表可用range()方法创建  \n",
        "range()输入一个数，是从0开始，到输入的数(不包含最后一个数)  \n",
        "range()输入两个数，指定开始的数，是左闭右开的，即不包含最后一个数  \n",
        "range()还可以指定步长，输入三个数，第三个数就是步长  \n",
        "  \n",
        "* **访问列表元素**  \n",
        "通过位置索引访问，注意是从0开始\n",
        "  \n",
        "* **修改、添加、删除元素  **  \n",
        "修改： 通过索引查找然后直接指定新值   \n",
        "添加：append()在尾部添加；insert()在指定位置插入元素  \n",
        "删除：del语句；pop()方法；remove()方法  \n",
        "del 语句删除后该元素再也无法使用  \n",
        "pop() 在初始列表中删除元素，该元素还可以使用  \n",
        "remove() 同pop，pop是通过索引删除元素，remove可以通过元素值删除  \n"
      ]
    },
    {
      "metadata": {
        "id": "_cultyzq0rTH",
        "colab_type": "code",
        "colab": {
          "base_uri": "https://localhost:8080/",
          "height": 208
        },
        "outputId": "0545cb1e-36ce-47ef-c6bb-f974ad8cadb8"
      },
      "cell_type": "code",
      "source": [
        "# 创建\n",
        "family = ['father','mother','brother','me']\n",
        "numbers1 = list(range(6))\n",
        "numbers2 = list(range(1, 6))\n",
        "numbers3 = list(range(1, 6, 2))\n",
        "print(numbers1)\n",
        "print(numbers2)\n",
        "print(numbers3)\n",
        "\n",
        "# 访问\n",
        "print(family[1]) # 是第二个元素\n",
        "print(family[-1])\n",
        "\n",
        "# 修改\n",
        "family[1] = 'Mother'\n",
        "print(family[1])\n",
        "\n",
        "# 添加\n",
        "family.append('grandmother')\n",
        "print(family)\n",
        "family.insert(0, 'grandfather')\n",
        "print(family)\n",
        "\n",
        "# 删除\n",
        "del family[0]\n",
        "print(family)\n",
        "family.pop(4)\n",
        "print(family)\n",
        "family.remove('me')\n",
        "print(family)"
      ],
      "execution_count": 25,
      "outputs": [
        {
          "output_type": "stream",
          "text": [
            "[0, 1, 2, 3, 4, 5]\n",
            "[1, 2, 3, 4, 5]\n",
            "[1, 3, 5]\n",
            "mother\n",
            "me\n",
            "Mother\n",
            "['father', 'Mother', 'brother', 'me', 'grandmother']\n",
            "['grandfather', 'father', 'Mother', 'brother', 'me', 'grandmother']\n",
            "['father', 'Mother', 'brother', 'me', 'grandmother']\n",
            "['father', 'Mother', 'brother', 'me']\n",
            "['father', 'Mother', 'brother']\n"
          ],
          "name": "stdout"
        }
      ]
    },
    {
      "metadata": {
        "id": "5rkEJ53Ww5QX",
        "colab_type": "text"
      },
      "cell_type": "markdown",
      "source": [
        "## 列表方法\n",
        "* **切片**  \n",
        "  [ : ]这种形式各种变体\n",
        "  \n",
        "* **列表排序**  \n",
        "sort()永久排序；sorted()临时排序 。这两种都是按字母顺序排列  \n",
        "reverse()反转元素排序  \n",
        "\n",
        "* **列表运算**  \n",
        "a in list：         判断a是否在list中  \n",
        "a not in list：  判断a是否不在list中  \n",
        "list1 + list2：  连个list拼接  \n",
        "list*2：            list重复2次   \n",
        "\n",
        "* **列表清除和复制**  \n",
        "clear() ； copy()"
      ]
    },
    {
      "metadata": {
        "id": "-DKIN2dR7udO",
        "colab_type": "code",
        "colab": {
          "base_uri": "https://localhost:8080/",
          "height": 312
        },
        "outputId": "2bba4e6c-9e16-4111-9420-fc68b79a9778"
      },
      "cell_type": "code",
      "source": [
        "# 切片\n",
        "print(family[:])\n",
        "print(family[0:2])\n",
        "print(family[1:2])\n",
        "print(family[:3])\n",
        "print(family[2:])\n",
        "print(family[-3:])\n",
        "\n",
        "\n",
        "# 排序\n",
        "print('原始列表顺序：',family)\n",
        "print('临时排序列表：',sorted(family))\n",
        "print('现在列表顺序-临时：',family)\n",
        "\n",
        "family.sort(reverse=True)\n",
        "print('现在列表顺序-永久：',family)\n",
        "\n",
        "family.reverse()\n",
        "print('现在列表顺序-reverse：',family)\n",
        "\n",
        "# 运算\n",
        "print('me' in family)\n",
        "print('mother' not in family)\n",
        "print(family + family)\n",
        "print(family*2)\n",
        "family = ['father','mother','brother','me']\n",
        "\n",
        "\n",
        "# 清除&复制\n",
        "family2 = family.copy()\n",
        "print(family2)\n",
        "\n",
        "family2.clear()\n",
        "print(family2)"
      ],
      "execution_count": 26,
      "outputs": [
        {
          "output_type": "stream",
          "text": [
            "['father', 'Mother', 'brother']\n",
            "['father', 'Mother']\n",
            "['Mother']\n",
            "['father', 'Mother', 'brother']\n",
            "['brother']\n",
            "['father', 'Mother', 'brother']\n",
            "原始列表顺序： ['father', 'Mother', 'brother']\n",
            "临时排序列表： ['Mother', 'brother', 'father']\n",
            "现在列表顺序-临时： ['father', 'Mother', 'brother']\n",
            "现在列表顺序-永久： ['father', 'brother', 'Mother']\n",
            "现在列表顺序-reverse： ['Mother', 'brother', 'father']\n",
            "False\n",
            "True\n",
            "['Mother', 'brother', 'father', 'Mother', 'brother', 'father']\n",
            "['Mother', 'brother', 'father', 'Mother', 'brother', 'father']\n",
            "['father', 'mother', 'brother', 'me']\n",
            "[]\n"
          ],
          "name": "stdout"
        }
      ]
    },
    {
      "metadata": {
        "id": "g7oS9QaG-Hzj",
        "colab_type": "text"
      },
      "cell_type": "markdown",
      "source": [
        "## 参考资料\n",
        "[python 列表] http://www.runoob.com/python3/python3-list.html  \n",
        "[Python:序列(字符串、列表、元组)和序列函数]  http://blog.sciencenet.cn/blog-3031432-1060191.html  "
      ]
    },
    {
      "metadata": {
        "id": "a9RdCOX5rQ3m",
        "colab_type": "text"
      },
      "cell_type": "markdown",
      "source": [
        "# 二、Tuple-元组"
      ]
    },
    {
      "metadata": {
        "id": "uNnsqQ03Bsjx",
        "colab_type": "text"
      },
      "cell_type": "markdown",
      "source": [
        "* 元组tuple是特殊的列表，列表是可变的，元组是不可变的。  \n",
        "* 元组用括号()来表示\n",
        "* 访问元组操作和列表一样\n",
        "* 元组一旦定义后，任何修改、排序、删除等操作都不可以"
      ]
    },
    {
      "metadata": {
        "id": "pU8jw7XhCZmE",
        "colab_type": "code",
        "colab": {
          "base_uri": "https://localhost:8080/",
          "height": 253
        },
        "outputId": "a91c9962-b3e5-4a9e-b40d-34d4793d5c28"
      },
      "cell_type": "code",
      "source": [
        "tuple1 = (100, 200, 300)\n",
        "print(tuple1)\n",
        "\n",
        "tuple1[2]\n",
        "tuple1[0] = 400\n",
        "tuple1.sort()\n",
        "tuple.pop()"
      ],
      "execution_count": 27,
      "outputs": [
        {
          "output_type": "stream",
          "text": [
            "(100, 200, 300)\n"
          ],
          "name": "stdout"
        },
        {
          "output_type": "error",
          "ename": "TypeError",
          "evalue": "ignored",
          "traceback": [
            "\u001b[0;31m---------------------------------------------------------------------------\u001b[0m",
            "\u001b[0;31mTypeError\u001b[0m                                 Traceback (most recent call last)",
            "\u001b[0;32m<ipython-input-27-adb3be82b8c9>\u001b[0m in \u001b[0;36m<module>\u001b[0;34m()\u001b[0m\n\u001b[1;32m      3\u001b[0m \u001b[0;34m\u001b[0m\u001b[0m\n\u001b[1;32m      4\u001b[0m \u001b[0mtuple1\u001b[0m\u001b[0;34m[\u001b[0m\u001b[0;36m2\u001b[0m\u001b[0;34m]\u001b[0m\u001b[0;34m\u001b[0m\u001b[0;34m\u001b[0m\u001b[0m\n\u001b[0;32m----> 5\u001b[0;31m \u001b[0mtuple1\u001b[0m\u001b[0;34m[\u001b[0m\u001b[0;36m0\u001b[0m\u001b[0;34m]\u001b[0m \u001b[0;34m=\u001b[0m \u001b[0;36m400\u001b[0m\u001b[0;34m\u001b[0m\u001b[0;34m\u001b[0m\u001b[0m\n\u001b[0m\u001b[1;32m      6\u001b[0m \u001b[0mtuple1\u001b[0m\u001b[0;34m.\u001b[0m\u001b[0msort\u001b[0m\u001b[0;34m(\u001b[0m\u001b[0;34m)\u001b[0m\u001b[0;34m\u001b[0m\u001b[0;34m\u001b[0m\u001b[0m\n\u001b[1;32m      7\u001b[0m \u001b[0mtuple\u001b[0m\u001b[0;34m.\u001b[0m\u001b[0mpop\u001b[0m\u001b[0;34m(\u001b[0m\u001b[0;34m)\u001b[0m\u001b[0;34m\u001b[0m\u001b[0;34m\u001b[0m\u001b[0m\n",
            "\u001b[0;31mTypeError\u001b[0m: 'tuple' object does not support item assignment"
          ]
        }
      ]
    },
    {
      "metadata": {
        "id": "IbEn6pbiroht",
        "colab_type": "text"
      },
      "cell_type": "markdown",
      "source": [
        "# 三、序列类型，相互转换及方法"
      ]
    },
    {
      "metadata": {
        "id": "4tRkZ-V5CxYF",
        "colab_type": "text"
      },
      "cell_type": "markdown",
      "source": [
        "* Python中的序列，包括**字符串(String)**、**列表(List)**、**元组(Tuple)**。\n"
      ]
    },
    {
      "metadata": {
        "id": "w7lZ3IZSDMGp",
        "colab_type": "code",
        "colab": {
          "base_uri": "https://localhost:8080/",
          "height": 87
        },
        "outputId": "df27b7c5-115f-45d7-c979-d48097c2049c"
      },
      "cell_type": "code",
      "source": [
        "# 字符串转列表或元组\n",
        "numbers1 = list('123')\n",
        "print(numbers1)\n",
        "\n",
        "numbers2 = tuple('123')\n",
        "print(numbers2)\n",
        "\n",
        "# 列表和元组互换\n",
        "numbers3 = list(numbers2)\n",
        "numbers4 = tuple(numbers1)\n",
        "print(numbers3)\n",
        "print(numbers4)"
      ],
      "execution_count": 33,
      "outputs": [
        {
          "output_type": "stream",
          "text": [
            "['1', '2', '3']\n",
            "('1', '2', '3')\n",
            "['1', '2', '3']\n",
            "('1', '2', '3')\n"
          ],
          "name": "stdout"
        }
      ]
    },
    {
      "metadata": {
        "id": "JxQuggG4rtdV",
        "colab_type": "text"
      },
      "cell_type": "markdown",
      "source": [
        "# 四、作业\n",
        "定义一个列表，包含自己的家庭成员，并在指定位置插入给定元素，例如你的男女朋友名称等。再将男女朋友名字移除等操作"
      ]
    },
    {
      "metadata": {
        "id": "f7MA0SlYqawQ",
        "colab_type": "code",
        "colab": {}
      },
      "cell_type": "code",
      "source": [
        "# 创建\n",
        "family = ['father','mother','brother','me']\n",
        "\n",
        "# 访问\n",
        "print(family[1]) # 是第二个元素\n",
        "print(family[-1])\n",
        "\n",
        "# 修改\n",
        "family[1] = 'Mother'\n",
        "print(family[1])\n",
        "\n",
        "# 添加\n",
        "family.append('grandmother')\n",
        "print(family)\n",
        "family.insert(0, 'grandfather')\n",
        "print(family)\n",
        "\n",
        "# 删除\n",
        "del family[0]\n",
        "print(family)\n",
        "family.pop(4)\n",
        "print(family)\n",
        "family.remove('me')\n",
        "print(family)\n"
      ],
      "execution_count": 0,
      "outputs": []
    }
  ]
}