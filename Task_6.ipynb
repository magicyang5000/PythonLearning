{
 "cells": [
  {
   "cell_type": "markdown",
   "metadata": {},
   "source": [
    "# 一、函数的定义\n",
    "1. 定义  \n",
    "函数是组织好的，可重复使用的，用来实现单一，或相关联功能的代码段。  \n",
    "函数能提高应用的模块性，和代码的重复利用率。Python提供了许多内建函数，比如常用的print()。    \n",
    "也可以自己创建函数，这被叫做用户自定义函数。  \n",
    " \n",
    "2. 语法\n",
    "一般格式：  \n",
    "`def 函数名（参数列表）:\n",
    "    函数体`\n",
    "   \n",
    "   \n",
    "3. 规则    \n",
    "可以定义一个由自己想要功能的函数，以下是简单的**规则**：\n",
    "    * 函数代码块以 `def` 关键词开头，后接函数标识符名称和圆括号 ()。\n",
    "    * 任何传入参数和自变量必须放在圆括号中间，圆括号之间可以用于定义参数。\n",
    "    * 函数的第一行语句可以选择性地使用文档字符串—用于存放函数说明。\n",
    "    * 函数内容以冒号起始，并且缩进。\n",
    "    * `return [表达式]` 结束函数，选择性地返回一个值给调用方。不带表达式的return相当于返回 None。\n",
    "  \n",
    "  \n",
    "4. 函数调用：  \n",
    "定义一个函数，给了函数一个名称，指定了函数里包含的参数，和代码块结构。  \n",
    "这个函数的基本结构完成以后，你可以通过另一个函数调用执行，也可以直接从 Python 命令提示符执行。  \n",
    "  \n",
    "  \n",
    "5. 参数传递\n",
    "在 python 中，类型属于对象，变量是没有类型的。  \n",
    "python 中一切都是对象，严格意义上我们不能说值传递还是引用传递，我们应该说传不可变对象和传可变对象。  \n",
    "  \n",
    "  可更改(mutable)对象     :list,dict 等是可以修改的对象  \n",
    "  不可更改(immutable)对象 :strings, tuples, 和 numbers 是不可变的对象。  \n",
    "    \n",
    "  可变对象在函数里修改了参数，那么在调用这个函数的函数里，原始的参数也被改变了。"
   ]
  },
  {
   "cell_type": "code",
   "execution_count": 3,
   "metadata": {},
   "outputs": [
    {
     "name": "stdout",
     "output_type": "stream",
     "text": [
      "Hello World!\n",
      "width = 4 height = 5 area = 20\n"
     ]
    }
   ],
   "source": [
    "# hello world\n",
    "def hello():\n",
    "    print(\"Hello World!\")\n",
    "    \n",
    "hello()\n",
    "\n",
    "# 计算面积函数\n",
    "def area(width, height):\n",
    "    return width * height\n",
    "\n",
    "w = 4\n",
    "h = 5\n",
    "print('width =', w, 'height =', h, 'area =', area(w, h))"
   ]
  },
  {
   "cell_type": "markdown",
   "metadata": {},
   "source": [
    "# 二、函数参数与作用域\n",
    "1. 参数  \n",
    "  \n",
    "|类型 | 说明|\n",
    "|:-----|:----|\n",
    "|必需参数|必需参数须以正确的顺序传入函数。调用时的数量必须和声明时的一样。\n",
    "|关键字参数|关键字参数和函数调用关系紧密，函数调用使用关键字参数来确定传入的参数值。使用关键字参数允许函数调用时参数的顺序与声明时不一致，因为 Python 解释器能够用参数名匹配参数值。|\n",
    "|默认参数|调用函数时，如果没有传递参数，则会使用默认参数。|\n",
    "|不定长参数|你可能需要一个函数能处理比当初声明时更多的参数。这些参数叫做不定长参数，和上述 2 种参数不同，声明时不会命名。|\n",
    "  \n",
    "**不定长参数语法**：   \n",
    "  \n",
    "`\n",
    "def functionname([formal_args,] *var_args_tuple ):\n",
    "   \"函数_文档字符串\"\n",
    "   function_suite\n",
    "   return [expression]\n",
    "`\n",
    "  \n",
    "加了星号 * 的参数会以元组(tuple)的形式导入，存放所有未命名的变量参数。  \n",
    "    \n",
    "`\n",
    "def functionname([formal_args,] **var_args_dict ):\n",
    "   \"函数_文档字符串\"\n",
    "   function_suite\n",
    "   return [expression]\n",
    "` \n",
    "  \n",
    "加了两个星号 ** 的参数会以字典的形式导入。\n",
    "  \n",
    "p.s. 声明函数时，参数中星号 * 可以单独出现。如果单独出现星号 * 后的参数必须用关键字传入。  "
   ]
  },
  {
   "cell_type": "code",
   "execution_count": 12,
   "metadata": {},
   "outputs": [
    {
     "data": {
      "text/plain": [
       "20"
      ]
     },
     "execution_count": 12,
     "metadata": {},
     "output_type": "execute_result"
    }
   ],
   "source": [
    "def area(width, height = 4):\n",
    "    return width * height\n",
    "# 必须参数\n",
    "area() # 不指定参数，会报错 ： area() missing 2 required positional arguments: 'width' and 'height'\n",
    "\n",
    "# 关键字参数\n",
    "area(5,4)\n",
    "area(height =4,width =5)\n",
    "\n",
    "# 默认参数\n",
    "area(5)"
   ]
  },
  {
   "cell_type": "code",
   "execution_count": 21,
   "metadata": {
    "scrolled": true
   },
   "outputs": [
    {
     "name": "stdout",
     "output_type": "stream",
     "text": [
      "输出: \n",
      "2\n",
      "(3, 4, 5)\n"
     ]
    }
   ],
   "source": [
    "# 不定长\n",
    "def printinfo( arg1, *vartuple):\n",
    "    \"打印任何传入的参数\"\n",
    "    print(\"输出: \")\n",
    "    print(arg1)\n",
    "    print(vartuple)   \n",
    "\n",
    "printinfo(2,3,4,5)"
   ]
  },
  {
   "cell_type": "code",
   "execution_count": 22,
   "metadata": {},
   "outputs": [
    {
     "name": "stdout",
     "output_type": "stream",
     "text": [
      "输出: \n",
      "1\n",
      "{'a': 2, 'b': 3}\n"
     ]
    }
   ],
   "source": [
    "# 不定长\n",
    "def printinfo( arg1, **vardict ):\n",
    "   \"打印任何传入的参数\"\n",
    "   print (\"输出: \")\n",
    "   print (arg1)\n",
    "   print (vardict)\n",
    " \n",
    "# 调用printinfo 函数\n",
    "printinfo(1, a=2,b=3)"
   ]
  },
  {
   "cell_type": "markdown",
   "metadata": {},
   "source": [
    "2. 作用域  \n",
    "Python 中，程序的变量并不是在哪个位置都可以访问的，访问权限决定于这个变量是在哪里赋值的。  \n",
    "变量的作用域决定了在哪一部分程序可以访问哪个特定的变量名称。Python的作用域一共有4种，分别是：  \n",
    "    * L（Local） 局部作用域  \n",
    "    * E（Enclosing） 闭包函数外的函数中  \n",
    "    * G（Global） 全局作用域  \n",
    "    * B（Built-in） 内建作用域  \n",
    "以 L –> E –> G –>B 的规则查找，即：在局部找不到，便会去局部外的局部找（例如闭包），再找不到就会去全局找，再者去内建中找。\n",
    "  \n",
    "  \n",
    "Python 中只有模块（module），类（class）以及函数（def、lambda）才会引入新的作用域，其它的代码块（如 if/elif/else/、try/except、for/while等）是不会引入新的作用域的，也就是说这些语句内定义的变量，外部也可以访问。  \n",
    "\n",
    "3. 全局变量和局部变量  \n",
    "定义在函数内部的变量拥有一个局部作用域，定义在函数外的拥有全局作用域。  \n",
    "局部变量只能在其被声明的函数内部访问，而全局变量可以在整个程序范围内访问。调用函数时，所有在函数内声明的变量名称都将被加入到作用域中。"
   ]
  },
  {
   "cell_type": "code",
   "execution_count": 23,
   "metadata": {},
   "outputs": [],
   "source": [
    "x = int(2.9)  # 内建作用域\n",
    " \n",
    "g_count = 0  # 全局作用域\n",
    "def outer():\n",
    "    o_count = 1  # 闭包函数外的函数中\n",
    "    def inner():\n",
    "        i_count = 2  # 局部作用域"
   ]
  },
  {
   "cell_type": "markdown",
   "metadata": {},
   "source": [
    "# 三、函数返回值\n",
    "`return [表达式]` 语句用于退出函数，选择性地向调用方返回一个表达式。不带参数值的return语句返回None。"
   ]
  },
  {
   "cell_type": "markdown",
   "metadata": {},
   "source": [
    "# 四、作业\n",
    "1. 实现random.sample方法\n",
    "2. 实现Max方法\n",
    "3. 实现判断两个字符串是否相等的方法"
   ]
  },
  {
   "cell_type": "code",
   "execution_count": 83,
   "metadata": {},
   "outputs": [
    {
     "name": "stdout",
     "output_type": "stream",
     "text": [
      "random_list: [0, 4, 5, 6]\n"
     ]
    }
   ],
   "source": [
    "# 第一题\n",
    "def randomlist(start, end, length):\n",
    "    'start为开始数字，end为结束数字。双闭口。length是列表长度'\n",
    "    '但是调用了random包，算是伪函数吧'\n",
    "    import random\n",
    "    random_set = set()\n",
    "    n = 1\n",
    "    while len(random_set) != length:\n",
    "        random_set.add(random.randint(start,end))\n",
    "        n = n + 1\n",
    "    random_list = list(random_set)\n",
    "    print('random_list:',random_list)\n",
    "\n",
    "randomlist(0,9,4)"
   ]
  },
  {
   "cell_type": "code",
   "execution_count": 94,
   "metadata": {},
   "outputs": [
    {
     "data": {
      "text/plain": [
       "2"
      ]
     },
     "execution_count": 94,
     "metadata": {},
     "output_type": "execute_result"
    }
   ],
   "source": [
    "# 第二题\n",
    "# 最简单版本，比较两个数字\n",
    "def maxnum(number1,number2):\n",
    "    if number1 >= number2:\n",
    "        n = number1\n",
    "    else:\n",
    "        n = number2\n",
    "    return n\n",
    "\n",
    "maxnum(1,2)"
   ]
  },
  {
   "cell_type": "code",
   "execution_count": 106,
   "metadata": {},
   "outputs": [
    {
     "name": "stdout",
     "output_type": "stream",
     "text": [
      "4\n",
      "9\n"
     ]
    }
   ],
   "source": [
    "# 比较n个数字\n",
    "def maxnum(number1, number2, *number):\n",
    "    \"先比较number1和number2\"\n",
    "    \"再比较元组里的数里最大的\"\n",
    "    \"最后比较上面得到的两个结果\"\n",
    "    if number1 >= number2:\n",
    "        a = number1\n",
    "    else:\n",
    "        a = number2\n",
    "    \n",
    "    if len(number) == 0:\n",
    "        b = 0\n",
    "    elif len(number) == 1:\n",
    "        b = number[0]\n",
    "    else:\n",
    "        b = number[0]\n",
    "        for i in range(1,len(number)):\n",
    "            if number[i] >= b:\n",
    "                b = number[i]\n",
    "            else:\n",
    "                b\n",
    "    \n",
    "    if a >= b:\n",
    "        return a \n",
    "    else:\n",
    "        return b \n",
    "    \n",
    "print(maxnum(3,2,4))\n",
    "print(maxnum(9,2,4,5,7,8))"
   ]
  },
  {
   "cell_type": "code",
   "execution_count": 99,
   "metadata": {},
   "outputs": [
    {
     "data": {
      "text/plain": [
       "'c'"
      ]
     },
     "execution_count": 99,
     "metadata": {},
     "output_type": "execute_result"
    }
   ],
   "source": [
    "# 比较两个字母\n",
    "def maxalpha(letter1,letter2):\n",
    "    '只比较单个小写字母，a最大，z最小'\n",
    "    alphabet = [chr(i) for i in range(97,123)]\n",
    "    a = alphabet.index(letter1)\n",
    "    b = alphabet.index(letter2)\n",
    "    if a >= b:\n",
    "        return letter2\n",
    "    else:\n",
    "        return letter1\n",
    "\n",
    "maxalpha('f','c')  "
   ]
  },
  {
   "cell_type": "code",
   "execution_count": 55,
   "metadata": {},
   "outputs": [
    {
     "name": "stdout",
     "output_type": "stream",
     "text": [
      "两个字符串不相等！\n",
      "两个字符串不相等！\n",
      "两个字符串相等！\n"
     ]
    }
   ],
   "source": [
    "# 第三题\n",
    "def compstr(str1,str2):\n",
    "    \"比较后两个字符串是否相等\"\n",
    "    \"先比较字符串长度，不相等，则两个字符串一定不一致\"\n",
    "    \"长度一致后，再遍历两个字符串里的元素，一一对比。所有元素相等就判断两个字符串相等，都则不一致\"\n",
    "    \"在判断元素是否相等时，引入计数器n，元素相等n就加1，这样最后如果n = 字符串长度，就说明每个元素都相等，否则不一致\"\n",
    "    if len(str1) == len(str2):\n",
    "        n = 0\n",
    "        for i in range(len(str1)):\n",
    "            if str1[i] == str2[i]:\n",
    "                n += 1\n",
    "            else:\n",
    "                n +=0\n",
    "                \n",
    "        if n == len(str1):\n",
    "            info = '两个字符串相等！'\n",
    "        else:\n",
    "            info ='两个字符串不相等！'\n",
    "        \n",
    "    else:\n",
    "        info = '两个字符串不相等！'\n",
    "    return print(info)\n",
    "\n",
    "\n",
    "compstr('magic','magc')\n",
    "compstr('magic','magoc')\n",
    "compstr('magic','magic')"
   ]
  }
 ],
 "metadata": {
  "kernelspec": {
   "display_name": "Python 3",
   "language": "python",
   "name": "python3"
  },
  "language_info": {
   "codemirror_mode": {
    "name": "ipython",
    "version": 3
   },
   "file_extension": ".py",
   "mimetype": "text/x-python",
   "name": "python",
   "nbconvert_exporter": "python",
   "pygments_lexer": "ipython3",
   "version": "3.7.0"
  }
 },
 "nbformat": 4,
 "nbformat_minor": 2
}
