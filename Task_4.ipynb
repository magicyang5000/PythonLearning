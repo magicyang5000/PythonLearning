{
 "cells": [
  {
   "cell_type": "markdown",
   "metadata": {},
   "source": [
    "# 一、判断语句\n",
    "在python中，用 if-elif-else 这几个关键字来执行条件语句。   \n",
    "  \n",
    "`\n",
    "if condition_1:\n",
    "    statement_block_1\n",
    "elif condition_2:\n",
    "    statement_block_2\n",
    "else:\n",
    "    statement_block_3\n",
    "`\n",
    "  \n",
    "如果 \"condition_1\" 为 True 将执行 \"statement_block_1\" 块语句；  \n",
    "如果 \"condition_1\" 为False，将判断 \"condition_2\"；  \n",
    "如果\"condition_2\" 为 True 将执行 \"statement_block_2\" 块语句；  \n",
    "如果 \"condition_2\" 为False，将执行\"statement_block_3\"块语句；  \n",
    "其中elif可以写N多个。  \n",
    "  \n",
    "**注意**： \n",
    "1. 每个条件后面要使用冒号 `:`，表示接下来是满足条件后要执行的语句块。\n",
    "2. 使用缩进来划分语句块，相同缩进数的语句在一起组成一个语句块。\n",
    "3. 在Python中没有switch – case语句。\n",
    "  \n",
    "**常用运算符**：  \n",
    "< 小于；<= 小于或等于；> 大于；>= 大于或等于；== 等于,比较两个对象是否相等；!= 不等于  \n"
   ]
  },
  {
   "cell_type": "code",
   "execution_count": 1,
   "metadata": {},
   "outputs": [
    {
     "name": "stdout",
     "output_type": "stream",
     "text": [
      "wrong number!\n"
     ]
    }
   ],
   "source": [
    "# 条件语句举例\n",
    "a = 0\n",
    "if a == 1:\n",
    "    print('a is number one!')\n",
    "elif a > 1:\n",
    "    print('a lose')\n",
    "else:\n",
    "    print('wrong number!')"
   ]
  },
  {
   "cell_type": "markdown",
   "metadata": {},
   "source": [
    "# 二、循环语句\n",
    "python中，循环语句有两种，for 和 while。  \n",
    "* **while**\n",
    "  \n",
    "`\n",
    "while condition：\n",
    "    语句\n",
    "`\n",
    "  \n",
    "同样需要注意冒号和缩进。另外，在Python中没有do..while循环。  \n",
    "\n",
    "* **for**\n",
    "  \n",
    "`\n",
    "for iterating_var in sequence:\n",
    "   statements(s)\n",
    "`"
   ]
  },
  {
   "cell_type": "code",
   "execution_count": 2,
   "metadata": {},
   "outputs": [
    {
     "name": "stdout",
     "output_type": "stream",
     "text": [
      "1 到 100 之和为: 5050\n",
      "当前字母 : P\n",
      "当前字母 : y\n",
      "当前字母 : t\n",
      "当前字母 : h\n",
      "当前字母 : o\n",
      "当前字母 : n\n"
     ]
    }
   ],
   "source": [
    "# 计算1-100，奇数之和\n",
    "n = 100\n",
    "\n",
    "sum = 0\n",
    "counter = 1\n",
    "while counter <= n:\n",
    "    sum = sum + counter\n",
    "    counter += 1\n",
    "print(\"1 到 %d 之和为: %d\" % (n,sum))\n",
    "\n",
    "# 遍历python字符串\n",
    "for letter in 'Python':     # 第一个实例\n",
    "   print('当前字母 :', letter)"
   ]
  },
  {
   "cell_type": "markdown",
   "metadata": {},
   "source": [
    "# 三、三目表达式\n",
    "\n",
    "python中的三目运算符不像其他语言一般的表示方法：判定条件?为真时的结果:为假时的结果。  \n",
    "\n",
    "例如，C语言是这么写的： result = 5>3?1:0  \n",
    "\n",
    "在python中的格式为：  \n",
    "1. a if condition else b  \n",
    "如果condition为True，返回a；否则，返回b。  \n",
    "  \n",
    "2. 利用and or短路运算的特点  \n",
    "and运算时，例如a and b，如果a为False就不再判断b的值。or运算时，例如a or b，如果a为True就不再判断b的值。  \n",
    "假设表达式为:condition and a or b。如果condition为True，会接着判断a，如果a等同True，就返回a的值。如果a等同False，就计算b，返回b的值。\n",
    "\n",
    "[Python的三元表达式] https://blog.csdn.net/candcplusplus/article/details/49952565"
   ]
  },
  {
   "cell_type": "code",
   "execution_count": 3,
   "metadata": {},
   "outputs": [
    {
     "name": "stdout",
     "output_type": "stream",
     "text": [
      "100\n",
      "冰\n"
     ]
    }
   ],
   "source": [
    "print(100 if  77 > 66 else 99)\n",
    "print(3 > 2 and '冰' or '火')"
   ]
  },
  {
   "cell_type": "markdown",
   "metadata": {},
   "source": [
    "# 四、容器\n",
    "Python中常见的数据结构可以统称为容器。顾名思义就是用来存放数据的东西。  \n",
    "之前接触到的列表、字典、元组，都是属于容器的一种。  \n",
    "  \n",
    "这里介绍一下python的collections模块。  \n",
    "* defaultdict 字典的一个子类\n",
    "* counter     计数器   \n",
    "* deque       双端队列  \n",
    "* namedtuple  命名元组  \n",
    "* enum.Enum(Python 3.4+) 枚举对象  \n",
    "\n",
    "详细内容参考：  \n",
    "[容器(Collections)] https://docs.pythontab.com/interpy/collections/collections/"
   ]
  },
  {
   "cell_type": "markdown",
   "metadata": {},
   "source": [
    "# 五、可迭代对象&迭代器&生成器\n",
    "* **Python可迭代对象（Iterable）**  \n",
    "Python中经常使用`for`来对某个对象进行遍历，此时被遍历的这个对象就是可迭代对象，像常见的`list`,`tuple`都是。如果给一个准确的定义的话，就是只要它定义了可以返回一个迭代器的`__iter__`方法，或者定义了可以支持下标索引的`__getitem__`方法，那么它就是一个可迭代对象。    \n",
    "  \n",
    "* **Python迭代器（iterator）**\n",
    ">迭代器（iterator）有时又称游标（cursor）是程式设计的软件设计模式，可在容器物件（container，例如链表或阵列）上遍访的界面，设计人员无需关心容器物件的内存分配的实现细节。  \n",
    ">摘自维基百科\n",
    "  \n",
    "   也就是说迭代器类似于一个游标，卡到哪里就是哪里，可以通过这个来访问某个可迭代对象的元素；同时，也不是只有Python有这个特性。  \n",
    "迭代器是通过`next()`来实现的，每调用一次他就会返回下一个元素，当没有下一个元素的时候返回一个`StopIteration`异常，所以实际上定义了这个方法的都算是迭代器。  \n",
    "  \n",
    "* **生成器（Generators）**   \n",
    "生成器是构造迭代器的最简单有力的工具，与普通函数不同的只有在返回一个值的时候使用`yield`来替代`return`，然后`yield`会自动构建好`next()`和`iter()`。  \n",
    "  \n",
    "[Python迭代器，可迭代对象，生成器] https://www.cnblogs.com/wswang/p/6047994.html"
   ]
  },
  {
   "cell_type": "code",
   "execution_count": 4,
   "metadata": {},
   "outputs": [
    {
     "name": "stdout",
     "output_type": "stream",
     "text": [
      "a\n",
      "b\n",
      "c d e f "
     ]
    }
   ],
   "source": [
    "# 迭代\n",
    "alphabets = ['a','b','c','d','e','f']\n",
    "it = iter(alphabets)\n",
    "print(next(it))\n",
    "print(next(it))\n",
    "\n",
    "for i in it:\n",
    "    print(i, end=\" \")\n",
    "# 神奇的是，使用过next()后再遍历，next()的元素不会在遍历里出现"
   ]
  },
  {
   "cell_type": "code",
   "execution_count": 5,
   "metadata": {},
   "outputs": [
    {
     "name": "stdout",
     "output_type": "stream",
     "text": [
      "0 1 1 2 3 5 8 13 21 34 55 "
     ]
    },
    {
     "ename": "SystemExit",
     "evalue": "",
     "output_type": "error",
     "traceback": [
      "An exception has occurred, use %tb to see the full traceback.\n",
      "\u001b[1;31mSystemExit\u001b[0m\n"
     ]
    },
    {
     "name": "stderr",
     "output_type": "stream",
     "text": [
      "C:\\Users\\magicyang\\AppData\\Local\\Continuum\\anaconda3\\lib\\site-packages\\IPython\\core\\interactiveshell.py:2969: UserWarning: To exit: use 'exit', 'quit', or Ctrl-D.\n",
      "  warn(\"To exit: use 'exit', 'quit', or Ctrl-D.\", stacklevel=1)\n"
     ]
    }
   ],
   "source": [
    "# 生成器\n",
    "import sys\n",
    " \n",
    "def fibonacci(n): # 生成器函数 - 斐波那契\n",
    "    a, b, counter = 0, 1, 0\n",
    "    while True:\n",
    "        if (counter > n): \n",
    "            return\n",
    "        yield a\n",
    "        a, b = b, a + b\n",
    "        counter += 1\n",
    "f = fibonacci(10) # f 是一个迭代器，由生成器返回生成\n",
    " \n",
    "while True:\n",
    "    try:\n",
    "        print(next(f), end=\" \")\n",
    "    except StopIteration:\n",
    "        sys.exit()"
   ]
  },
  {
   "cell_type": "code",
   "execution_count": 6,
   "metadata": {},
   "outputs": [
    {
     "ename": "SystemExit",
     "evalue": "",
     "output_type": "error",
     "traceback": [
      "\u001b[1;31m---------------------------------------------------------------------------\u001b[0m",
      "\u001b[1;31mStopIteration\u001b[0m                             Traceback (most recent call last)",
      "\u001b[1;32m<ipython-input-5-d56f0ea9b351>\u001b[0m in \u001b[0;36m<module>\u001b[1;34m()\u001b[0m\n\u001b[0;32m     15\u001b[0m     \u001b[1;32mtry\u001b[0m\u001b[1;33m:\u001b[0m\u001b[1;33m\u001b[0m\u001b[0m\n\u001b[1;32m---> 16\u001b[1;33m         \u001b[0mprint\u001b[0m\u001b[1;33m(\u001b[0m\u001b[0mnext\u001b[0m\u001b[1;33m(\u001b[0m\u001b[0mf\u001b[0m\u001b[1;33m)\u001b[0m\u001b[1;33m,\u001b[0m \u001b[0mend\u001b[0m\u001b[1;33m=\u001b[0m\u001b[1;34m\" \"\u001b[0m\u001b[1;33m)\u001b[0m\u001b[1;33m\u001b[0m\u001b[0m\n\u001b[0m\u001b[0;32m     17\u001b[0m     \u001b[1;32mexcept\u001b[0m \u001b[0mStopIteration\u001b[0m\u001b[1;33m:\u001b[0m\u001b[1;33m\u001b[0m\u001b[0m\n",
      "\u001b[1;31mStopIteration\u001b[0m: ",
      "\nDuring handling of the above exception, another exception occurred:\n",
      "\u001b[1;31mSystemExit\u001b[0m                                Traceback (most recent call last)",
      "\u001b[1;32m<ipython-input-5-d56f0ea9b351>\u001b[0m in \u001b[0;36m<module>\u001b[1;34m()\u001b[0m\n\u001b[0;32m     16\u001b[0m         \u001b[0mprint\u001b[0m\u001b[1;33m(\u001b[0m\u001b[0mnext\u001b[0m\u001b[1;33m(\u001b[0m\u001b[0mf\u001b[0m\u001b[1;33m)\u001b[0m\u001b[1;33m,\u001b[0m \u001b[0mend\u001b[0m\u001b[1;33m=\u001b[0m\u001b[1;34m\" \"\u001b[0m\u001b[1;33m)\u001b[0m\u001b[1;33m\u001b[0m\u001b[0m\n\u001b[0;32m     17\u001b[0m     \u001b[1;32mexcept\u001b[0m \u001b[0mStopIteration\u001b[0m\u001b[1;33m:\u001b[0m\u001b[1;33m\u001b[0m\u001b[0m\n\u001b[1;32m---> 18\u001b[1;33m         \u001b[0msys\u001b[0m\u001b[1;33m.\u001b[0m\u001b[0mexit\u001b[0m\u001b[1;33m(\u001b[0m\u001b[1;33m)\u001b[0m\u001b[1;33m\u001b[0m\u001b[0m\n\u001b[0m",
      "\u001b[1;31mSystemExit\u001b[0m: "
     ]
    }
   ],
   "source": [
    "%tb"
   ]
  },
  {
   "cell_type": "markdown",
   "metadata": {},
   "source": [
    "[关于错误An exception has occurred,use %tb to see the full traceback，SystemEx] https://blog.csdn.net/capecape/article/details/78072904"
   ]
  },
  {
   "cell_type": "markdown",
   "metadata": {},
   "source": [
    "# 六、作业\n",
    "1. 请对方输入一个0-9之间的数字，进行检查，若不是数字提示：您输入的不是数字，请输入0-9间的数字，若数字不在0-9范围内，提示用户输入0-9之间的数字，直至用户输入正确。\n",
    "2. 系统随机生成一个长度为3的数字列表，且列表中元素在0-9之间并且不相等。将用户输入与该列表进行比较，若为列表第一个元素，则荣获第一名，列表第二个元素，则荣获第二名，列表第三个名字，则荣获第三名，否则提示用户未得奖，输入1重新开始游戏，输入2则结束游戏。\n",
    "注意：每次游戏中列表中数字要求随机生成，每轮游戏都不相等"
   ]
  },
  {
   "cell_type": "code",
   "execution_count": 7,
   "metadata": {},
   "outputs": [
    {
     "name": "stdout",
     "output_type": "stream",
     "text": [
      "请输入一个0-9之间的数字： 5\n",
      "5\n"
     ]
    }
   ],
   "source": [
    "# 第一题\n",
    "number = input('请输入一个0-9之间的数字： ')\n",
    "\n",
    "if number.isdigit() == False:\n",
    "    print('您输入的不是数字，请输入0-9间的数字!')\n",
    "elif int(number) not in range(0,10):\n",
    "    print('请输入0-9间的数字!')\n",
    "else:\n",
    "    print(number)  "
   ]
  },
  {
   "cell_type": "code",
   "execution_count": 2,
   "metadata": {},
   "outputs": [
    {
     "name": "stdout",
     "output_type": "stream",
     "text": [
      "random_list1 [7, 0, 9]\n",
      "random_list2 [8, 0, 3]\n"
     ]
    }
   ],
   "source": [
    "# 第二题\n",
    "\n",
    "# 随机生成一个长度为3的数字列表\n",
    "\n",
    "## 方法一：直接用sample方法生成\n",
    "import random\n",
    "random_list1 = random.sample(range(0,10),3)\n",
    "print('random_list1',random_list1)\n",
    "\n",
    "## 方法二：生成3长度的集合set，然后转换成list \n",
    "random_set = set()\n",
    "n = 1\n",
    "while len(random_set) != 3:\n",
    "    random_set.add(random.randint(0,9))\n",
    "    n = n + 1\n",
    "random_list2 = list(random_set)\n",
    "print('random_list2',random_list2)\n"
   ]
  },
  {
   "cell_type": "code",
   "execution_count": null,
   "metadata": {},
   "outputs": [
    {
     "name": "stdout",
     "output_type": "stream",
     "text": [
      "请输入一个0-9之间的数字： 5\n",
      "[8, 0, 3]\n",
      "很遗憾，您未中奖！输入1重新开始游戏，输入2则结束游戏。2\n",
      "请输入一个0-9之间的数字： 2\n",
      "[8, 0, 3]\n"
     ]
    }
   ],
   "source": [
    "# 判断用户输入的数字\n",
    "nember_next = 1\n",
    "while nember_next != 2:\n",
    "    \n",
    "    number = input('请输入一个0-9之间的数字： ')\n",
    "    if number.isdigit() == False:\n",
    "        print('您输入的不是数字，请输入0-9间的数字!')\n",
    "    elif int(number) not in range(0,10):\n",
    "        print('请输入0-9间的数字!')\n",
    "    else:\n",
    "        print(random_list2)\n",
    "        if int(number) == random_list2[0]:\n",
    "            print('恭喜你荣获第一名！')\n",
    "        elif int(number) == random_list2[1]:\n",
    "            print('恭喜你荣获第二名！')\n",
    "        elif int(number) == random_list2[2]:\n",
    "            print('恭喜你荣获第三名！')\n",
    "        else:\n",
    "            number_next = int(input('很遗憾，您未中奖！输入1重新开始游戏，输入2则结束游戏。') )"
   ]
  },
  {
   "cell_type": "code",
   "execution_count": null,
   "metadata": {},
   "outputs": [
    {
     "name": "stdout",
     "output_type": "stream",
     "text": [
      "请输入一个0-9之间的数字： 5\n",
      "本次开奖号码为： [5, 6, 7]\n",
      "恭喜你荣获第一名！\n"
     ]
    }
   ],
   "source": [
    "# 随机列表和用户结合\n",
    "import random\n",
    "nember_next = 1\n",
    "while nember_next != 2:\n",
    "    random_set = set()\n",
    "    n = 1\n",
    "    while len(random_set) != 3:\n",
    "        random_set.add(random.randint(0,9))\n",
    "        n = n + 1\n",
    "    random_list2 = list(random_set)\n",
    "    \n",
    "    number = input('请输入一个0-9之间的数字： ')\n",
    "    if number.isdigit() == False:\n",
    "        print('您输入的不是数字，请输入0-9间的数字!')\n",
    "    elif int(number) not in range(0,10):\n",
    "        print('请输入0-9间的数字!')\n",
    "    else:\n",
    "        print('本次开奖号码为：',random_list2)\n",
    "        if int(number) in random_list2:\n",
    "            print('恭喜你荣获第一名！')\n",
    "        elif int(number) == random_list2[1]:\n",
    "            print('恭喜你荣获第二名！')\n",
    "        elif int(number) == random_list2[2]:\n",
    "            print('恭喜你荣获第三名！')\n",
    "        else:\n",
    "            number_next = int(input('很遗憾，您未中奖！输入1重新开始游戏，输入2则结束游戏。'))"
   ]
  },
  {
   "cell_type": "markdown",
   "metadata": {},
   "source": [
    "## 参考资料\n",
    "[Python random模块sample、randint、shuffle、choice随机函数] https://www.cnblogs.com/chamie/p/4917820.html  \n",
    "[random模块官方文档] https://docs.python.org/2/library/random.html"
   ]
  }
 ],
 "metadata": {
  "kernelspec": {
   "display_name": "Python 3",
   "language": "python",
   "name": "python3"
  },
  "language_info": {
   "codemirror_mode": {
    "name": "ipython",
    "version": 3
   },
   "file_extension": ".py",
   "mimetype": "text/x-python",
   "name": "python",
   "nbconvert_exporter": "python",
   "pygments_lexer": "ipython3",
   "version": "3.7.0"
  }
 },
 "nbformat": 4,
 "nbformat_minor": 2
}
